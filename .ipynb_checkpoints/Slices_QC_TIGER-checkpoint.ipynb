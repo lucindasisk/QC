{
 "cells": [
  {
   "cell_type": "code",
   "execution_count": 1,
   "metadata": {},
   "outputs": [
    {
     "name": "stderr",
     "output_type": "stream",
     "text": [
      "/usr/local/anaconda3/lib/python3.6/importlib/_bootstrap.py:219: RuntimeWarning: numpy.dtype size changed, may indicate binary incompatibility. Expected 96, got 88\n",
      "  return f(*args, **kwds)\n",
      "/usr/local/anaconda3/lib/python3.6/site-packages/h5py/__init__.py:36: FutureWarning: Conversion of the second argument of issubdtype from `float` to `np.floating` is deprecated. In future, it will be treated as `np.float64 == np.dtype(float).type`.\n",
      "  from ._conv import register_converters as _register_converters\n"
     ]
    }
   ],
   "source": [
    "from nipype.interfaces import fsl\n",
    "from nipype.interfaces.io import DataSink, SelectFiles, DataGrabber \n",
    "from nipype.pipeline.engine import Node, Workflow, JoinNode, MapNode\n",
    "from nipype.interfaces.utility import IdentityInterface, Function  \n",
    "from os.path import abspath, expanduser, join\n",
    "from os import makedirs\n",
    "from glob import glob"
   ]
  },
  {
   "cell_type": "code",
   "execution_count": 2,
   "metadata": {},
   "outputs": [
    {
     "name": "stdout",
     "output_type": "stream",
     "text": [
      "Please enter timpoint: Either Tmid, T1, T2, or T3:   T1\n"
     ]
    }
   ],
   "source": [
    "#Set variables\n",
    "tp = input('Please enter timpoint: Either Tmid, T1, T2, or T3:   ')\n",
    "home = '/Volumes/iang/ELS_data/ELS_DTI_Analysis/ELS_{}'.format(tp)\n",
    "orig = join(home, 'matproc')\n",
    "qc = join(home, '{}_brainmask_qc'.format(tp))\n",
    "fpath = join(home, 'subjDir')\n",
    "\n",
    "subs = glob(orig +'/*-{}'.format(tp))\n",
    "\n",
    "subject_list = []\n",
    "for sub in subs:\n",
    "    s = sub.replace(orig+'/','')\n",
    "    subject_list.append(s)\n"
   ]
  },
  {
   "cell_type": "code",
   "execution_count": null,
   "metadata": {},
   "outputs": [],
   "source": [
    "for sub in subject_list:\n",
    "#Setup Nodes\n",
    "    try:\n",
    "        slices = fsl.Slicer(all_axial = True,\n",
    "                                 image_width = 1000)\n",
    "        slices.inputs.in_file = join(orig, '{}/dti60trilin/bin/brainMask.nii.gz'.format(sub))\n",
    "        slices.inputs.out_file = join(qc, '{}_mask_qc.png'.format(sub))\n",
    "        slices.run()\n",
    "    except:\n",
    "        print('Error when trying to run slicer for {}'.format(sub))"
   ]
  },
  {
   "cell_type": "code",
   "execution_count": null,
   "metadata": {},
   "outputs": [],
   "source": []
  },
  {
   "cell_type": "code",
   "execution_count": null,
   "metadata": {},
   "outputs": [],
   "source": []
  }
 ],
 "metadata": {
  "kernelspec": {
   "display_name": "Python 3",
   "language": "python",
   "name": "python3"
  },
  "language_info": {
   "codemirror_mode": {
    "name": "ipython",
    "version": 3
   },
   "file_extension": ".py",
   "mimetype": "text/x-python",
   "name": "python",
   "nbconvert_exporter": "python",
   "pygments_lexer": "ipython3",
   "version": "3.6.4"
  },
  "toc": {
   "base_numbering": 1,
   "nav_menu": {},
   "number_sections": true,
   "sideBar": true,
   "skip_h1_title": false,
   "title_cell": "Table of Contents",
   "title_sidebar": "Contents",
   "toc_cell": false,
   "toc_position": {},
   "toc_section_display": true,
   "toc_window_display": false
  }
 },
 "nbformat": 4,
 "nbformat_minor": 2
}
